{
 "cells": [
  {
   "cell_type": "code",
   "execution_count": 1,
   "id": "13040991",
   "metadata": {},
   "outputs": [],
   "source": [
    "import cv2\n",
    "import socket\n",
    "import pickle\n",
    "import struct"
   ]
  },
  {
   "cell_type": "code",
   "execution_count": 2,
   "id": "016d282f",
   "metadata": {},
   "outputs": [
    {
     "name": "stdout",
     "output_type": "stream",
     "text": [
      "socket successfully created \n"
     ]
    }
   ],
   "source": [
    "\n",
    "try:\n",
    "    skt = socket.socket(socket.AF_INET, socket.SOCK_STREAM)\n",
    "    print(\"socket successfully created \")\n",
    "except socket.error as err:\n",
    "        print(\"socket creation failed with error {} \".fornatat(err))"
   ]
  },
  {
   "cell_type": "code",
   "execution_count": 3,
   "id": "e99175fe",
   "metadata": {},
   "outputs": [
    {
     "name": "stdout",
     "output_type": "stream",
     "text": [
      "Socket is listening\n"
     ]
    }
   ],
   "source": [
    "\n",
    "port = 1234\n",
    "skt.bind((\"\",port))\n",
    "skt.listen()\n",
    "print(\"Socket is listening\")"
   ]
  },
  {
   "cell_type": "code",
   "execution_count": null,
   "id": "82b9901a",
   "metadata": {},
   "outputs": [
    {
     "name": "stdout",
     "output_type": "stream",
     "text": [
      "Connnected to  ('192.168.56.1', 57324)\n"
     ]
    }
   ],
   "source": [
    "while True:\n",
    "    session, address = skt.accept()\n",
    "    print(\"Connnected to \",address)\n",
    "    if session:\n",
    "        cam = cv2.VideoCapture(0)\n",
    "        while(cam.isOpened()):\n",
    "            ret, img = cam.read()\n",
    "            data = pickle.dumps(img)\n",
    "            msg = struct.pack(\"Q\",len(data))+data\n",
    "            session.sendall(msg)\n",
    "            cv2.imshow(\"Transmitting video...\",img)\n",
    "            if cv2.waitKey(1)==13:\n",
    "                cv2.destroyAllWindows()\n",
    "                session.close()\n",
    "                break"
   ]
  },
  {
   "cell_type": "code",
   "execution_count": null,
   "id": "ba035127",
   "metadata": {},
   "outputs": [],
   "source": []
  },
  {
   "cell_type": "code",
   "execution_count": null,
   "id": "5bc5319e",
   "metadata": {},
   "outputs": [],
   "source": []
  }
 ],
 "metadata": {
  "kernelspec": {
   "display_name": "Python 3",
   "language": "python",
   "name": "python3"
  },
  "language_info": {
   "codemirror_mode": {
    "name": "ipython",
    "version": 3
   },
   "file_extension": ".py",
   "mimetype": "text/x-python",
   "name": "python",
   "nbconvert_exporter": "python",
   "pygments_lexer": "ipython3",
   "version": "3.8.8"
  }
 },
 "nbformat": 4,
 "nbformat_minor": 5
}
